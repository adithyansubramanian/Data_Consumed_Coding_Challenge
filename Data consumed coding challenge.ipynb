{
 "cells": [
  {
   "cell_type": "code",
   "execution_count": 91,
   "metadata": {
    "scrolled": true
   },
   "outputs": [],
   "source": [
    "import pandas as pd \n",
    "import numpy as np\n",
    "import matplotlib.pyplot as plt\n",
    "import seaborn as sns\n",
    "import scipy\n",
    "from sklearn.neighbors import KNeighborsClassifier\n",
    "from sklearn import neighbors\n",
    "from sklearn import preprocessing\n",
    "from sklearn.model_selection import train_test_split\n",
    "from sklearn import metrics"
   ]
  },
  {
   "cell_type": "markdown",
   "metadata": {},
   "source": [
    "# Explororatory data analysis"
   ]
  },
  {
   "cell_type": "code",
   "execution_count": 92,
   "metadata": {},
   "outputs": [],
   "source": [
    "#import data as dataframe\n",
    "df = pd.read_csv('account-defaults.csv', header = 0)"
   ]
  },
  {
   "cell_type": "code",
   "execution_count": 93,
   "metadata": {},
   "outputs": [
    {
     "data": {
      "text/html": [
       "<div>\n",
       "<style scoped>\n",
       "    .dataframe tbody tr th:only-of-type {\n",
       "        vertical-align: middle;\n",
       "    }\n",
       "\n",
       "    .dataframe tbody tr th {\n",
       "        vertical-align: top;\n",
       "    }\n",
       "\n",
       "    .dataframe thead th {\n",
       "        text-align: right;\n",
       "    }\n",
       "</style>\n",
       "<table border=\"1\" class=\"dataframe\">\n",
       "  <thead>\n",
       "    <tr style=\"text-align: right;\">\n",
       "      <th></th>\n",
       "      <th>FirstYearDelinquency</th>\n",
       "      <th>AgeOldestIdentityRecord</th>\n",
       "      <th>AgeOldestAccount</th>\n",
       "      <th>AgeNewestAutoAccount</th>\n",
       "      <th>TotalInquiries</th>\n",
       "      <th>AvgAgeAutoAccounts</th>\n",
       "      <th>TotalAutoAccountsNeverDelinquent</th>\n",
       "      <th>WorstDelinquency</th>\n",
       "      <th>HasInquiryTelecomm</th>\n",
       "    </tr>\n",
       "  </thead>\n",
       "  <tbody>\n",
       "    <tr>\n",
       "      <th>0</th>\n",
       "      <td>0</td>\n",
       "      <td>NaN</td>\n",
       "      <td>NaN</td>\n",
       "      <td>NaN</td>\n",
       "      <td>0.0</td>\n",
       "      <td>NaN</td>\n",
       "      <td>NaN</td>\n",
       "      <td>NaN</td>\n",
       "      <td>0.0</td>\n",
       "    </tr>\n",
       "    <tr>\n",
       "      <th>1</th>\n",
       "      <td>0</td>\n",
       "      <td>148.0</td>\n",
       "      <td>113.0</td>\n",
       "      <td>112.0</td>\n",
       "      <td>0.0</td>\n",
       "      <td>112.0</td>\n",
       "      <td>1.0</td>\n",
       "      <td>1.0</td>\n",
       "      <td>0.0</td>\n",
       "    </tr>\n",
       "    <tr>\n",
       "      <th>2</th>\n",
       "      <td>1</td>\n",
       "      <td>200.0</td>\n",
       "      <td>70.0</td>\n",
       "      <td>NaN</td>\n",
       "      <td>0.0</td>\n",
       "      <td>NaN</td>\n",
       "      <td>NaN</td>\n",
       "      <td>400.0</td>\n",
       "      <td>0.0</td>\n",
       "    </tr>\n",
       "    <tr>\n",
       "      <th>3</th>\n",
       "      <td>0</td>\n",
       "      <td>378.0</td>\n",
       "      <td>78.0</td>\n",
       "      <td>32.0</td>\n",
       "      <td>0.0</td>\n",
       "      <td>49.0</td>\n",
       "      <td>2.0</td>\n",
       "      <td>400.0</td>\n",
       "      <td>0.0</td>\n",
       "    </tr>\n",
       "    <tr>\n",
       "      <th>4</th>\n",
       "      <td>1</td>\n",
       "      <td>37.0</td>\n",
       "      <td>NaN</td>\n",
       "      <td>NaN</td>\n",
       "      <td>0.0</td>\n",
       "      <td>NaN</td>\n",
       "      <td>NaN</td>\n",
       "      <td>NaN</td>\n",
       "      <td>0.0</td>\n",
       "    </tr>\n",
       "  </tbody>\n",
       "</table>\n",
       "</div>"
      ],
      "text/plain": [
       "   FirstYearDelinquency  AgeOldestIdentityRecord  AgeOldestAccount  \\\n",
       "0                     0                      NaN               NaN   \n",
       "1                     0                    148.0             113.0   \n",
       "2                     1                    200.0              70.0   \n",
       "3                     0                    378.0              78.0   \n",
       "4                     1                     37.0               NaN   \n",
       "\n",
       "   AgeNewestAutoAccount  TotalInquiries  AvgAgeAutoAccounts  \\\n",
       "0                   NaN             0.0                 NaN   \n",
       "1                 112.0             0.0               112.0   \n",
       "2                   NaN             0.0                 NaN   \n",
       "3                  32.0             0.0                49.0   \n",
       "4                   NaN             0.0                 NaN   \n",
       "\n",
       "   TotalAutoAccountsNeverDelinquent  WorstDelinquency  HasInquiryTelecomm  \n",
       "0                               NaN               NaN                 0.0  \n",
       "1                               1.0               1.0                 0.0  \n",
       "2                               NaN             400.0                 0.0  \n",
       "3                               2.0             400.0                 0.0  \n",
       "4                               NaN               NaN                 0.0  "
      ]
     },
     "execution_count": 93,
     "metadata": {},
     "output_type": "execute_result"
    }
   ],
   "source": [
    "df.head()"
   ]
  },
  {
   "cell_type": "code",
   "execution_count": 94,
   "metadata": {},
   "outputs": [
    {
     "name": "stdout",
     "output_type": "stream",
     "text": [
      "<class 'pandas.core.frame.DataFrame'>\n",
      "RangeIndex: 11250 entries, 0 to 11249\n",
      "Data columns (total 9 columns):\n",
      "FirstYearDelinquency                11250 non-null int64\n",
      "AgeOldestIdentityRecord             11118 non-null float64\n",
      "AgeOldestAccount                    9910 non-null float64\n",
      "AgeNewestAutoAccount                6286 non-null float64\n",
      "TotalInquiries                      10840 non-null float64\n",
      "AvgAgeAutoAccounts                  6286 non-null float64\n",
      "TotalAutoAccountsNeverDelinquent    6286 non-null float64\n",
      "WorstDelinquency                    9933 non-null float64\n",
      "HasInquiryTelecomm                  11174 non-null float64\n",
      "dtypes: float64(8), int64(1)\n",
      "memory usage: 791.1 KB\n"
     ]
    }
   ],
   "source": [
    "df.info()"
   ]
  },
  {
   "cell_type": "code",
   "execution_count": 95,
   "metadata": {},
   "outputs": [],
   "source": [
    "# To start let's clean the data and remove all nans \n",
    "df = df.dropna()"
   ]
  },
  {
   "cell_type": "code",
   "execution_count": 96,
   "metadata": {},
   "outputs": [
    {
     "data": {
      "text/html": [
       "<div>\n",
       "<style scoped>\n",
       "    .dataframe tbody tr th:only-of-type {\n",
       "        vertical-align: middle;\n",
       "    }\n",
       "\n",
       "    .dataframe tbody tr th {\n",
       "        vertical-align: top;\n",
       "    }\n",
       "\n",
       "    .dataframe thead th {\n",
       "        text-align: right;\n",
       "    }\n",
       "</style>\n",
       "<table border=\"1\" class=\"dataframe\">\n",
       "  <thead>\n",
       "    <tr style=\"text-align: right;\">\n",
       "      <th></th>\n",
       "      <th>FirstYearDelinquency</th>\n",
       "      <th>AgeOldestIdentityRecord</th>\n",
       "      <th>AgeOldestAccount</th>\n",
       "      <th>AgeNewestAutoAccount</th>\n",
       "      <th>TotalInquiries</th>\n",
       "      <th>AvgAgeAutoAccounts</th>\n",
       "      <th>TotalAutoAccountsNeverDelinquent</th>\n",
       "      <th>WorstDelinquency</th>\n",
       "      <th>HasInquiryTelecomm</th>\n",
       "    </tr>\n",
       "  </thead>\n",
       "  <tbody>\n",
       "    <tr>\n",
       "      <th>1</th>\n",
       "      <td>0</td>\n",
       "      <td>148.0</td>\n",
       "      <td>113.0</td>\n",
       "      <td>112.0</td>\n",
       "      <td>0.0</td>\n",
       "      <td>112.0</td>\n",
       "      <td>1.0</td>\n",
       "      <td>1.0</td>\n",
       "      <td>0.0</td>\n",
       "    </tr>\n",
       "    <tr>\n",
       "      <th>3</th>\n",
       "      <td>0</td>\n",
       "      <td>378.0</td>\n",
       "      <td>78.0</td>\n",
       "      <td>32.0</td>\n",
       "      <td>0.0</td>\n",
       "      <td>49.0</td>\n",
       "      <td>2.0</td>\n",
       "      <td>400.0</td>\n",
       "      <td>0.0</td>\n",
       "    </tr>\n",
       "    <tr>\n",
       "      <th>5</th>\n",
       "      <td>1</td>\n",
       "      <td>91.0</td>\n",
       "      <td>66.0</td>\n",
       "      <td>7.0</td>\n",
       "      <td>2.0</td>\n",
       "      <td>19.0</td>\n",
       "      <td>2.0</td>\n",
       "      <td>1.0</td>\n",
       "      <td>0.0</td>\n",
       "    </tr>\n",
       "    <tr>\n",
       "      <th>7</th>\n",
       "      <td>0</td>\n",
       "      <td>254.0</td>\n",
       "      <td>123.0</td>\n",
       "      <td>40.0</td>\n",
       "      <td>0.0</td>\n",
       "      <td>77.0</td>\n",
       "      <td>2.0</td>\n",
       "      <td>1.0</td>\n",
       "      <td>0.0</td>\n",
       "    </tr>\n",
       "    <tr>\n",
       "      <th>10</th>\n",
       "      <td>0</td>\n",
       "      <td>121.0</td>\n",
       "      <td>98.0</td>\n",
       "      <td>68.0</td>\n",
       "      <td>1.0</td>\n",
       "      <td>83.0</td>\n",
       "      <td>1.0</td>\n",
       "      <td>1.0</td>\n",
       "      <td>0.0</td>\n",
       "    </tr>\n",
       "  </tbody>\n",
       "</table>\n",
       "</div>"
      ],
      "text/plain": [
       "    FirstYearDelinquency  AgeOldestIdentityRecord  AgeOldestAccount  \\\n",
       "1                      0                    148.0             113.0   \n",
       "3                      0                    378.0              78.0   \n",
       "5                      1                     91.0              66.0   \n",
       "7                      0                    254.0             123.0   \n",
       "10                     0                    121.0              98.0   \n",
       "\n",
       "    AgeNewestAutoAccount  TotalInquiries  AvgAgeAutoAccounts  \\\n",
       "1                  112.0             0.0               112.0   \n",
       "3                   32.0             0.0                49.0   \n",
       "5                    7.0             2.0                19.0   \n",
       "7                   40.0             0.0                77.0   \n",
       "10                  68.0             1.0                83.0   \n",
       "\n",
       "    TotalAutoAccountsNeverDelinquent  WorstDelinquency  HasInquiryTelecomm  \n",
       "1                                1.0               1.0                 0.0  \n",
       "3                                2.0             400.0                 0.0  \n",
       "5                                2.0               1.0                 0.0  \n",
       "7                                2.0               1.0                 0.0  \n",
       "10                               1.0               1.0                 0.0  "
      ]
     },
     "execution_count": 96,
     "metadata": {},
     "output_type": "execute_result"
    }
   ],
   "source": [
    "df.head()"
   ]
  },
  {
   "cell_type": "code",
   "execution_count": 97,
   "metadata": {},
   "outputs": [
    {
     "name": "stdout",
     "output_type": "stream",
     "text": [
      "<class 'pandas.core.frame.DataFrame'>\n",
      "Int64Index: 6263 entries, 1 to 11246\n",
      "Data columns (total 9 columns):\n",
      "FirstYearDelinquency                6263 non-null int64\n",
      "AgeOldestIdentityRecord             6263 non-null float64\n",
      "AgeOldestAccount                    6263 non-null float64\n",
      "AgeNewestAutoAccount                6263 non-null float64\n",
      "TotalInquiries                      6263 non-null float64\n",
      "AvgAgeAutoAccounts                  6263 non-null float64\n",
      "TotalAutoAccountsNeverDelinquent    6263 non-null float64\n",
      "WorstDelinquency                    6263 non-null float64\n",
      "HasInquiryTelecomm                  6263 non-null float64\n",
      "dtypes: float64(8), int64(1)\n",
      "memory usage: 489.3 KB\n"
     ]
    }
   ],
   "source": [
    "df.info()"
   ]
  },
  {
   "cell_type": "markdown",
   "metadata": {},
   "source": [
    "roughly half the rows have some form of nan values. This is problematic, and there are many ways we can deal with it, such as using the median, or mean value in the column. In the interest of time, I am going to continue with just the half of the dataset that did not have any nan values for my visualizations. If given more time, I would research the values and decide for each column what is the best scenario for each column. "
   ]
  },
  {
   "cell_type": "markdown",
   "metadata": {},
   "source": [
    "first I want to see what the ages of the account look like for delinquent accounts. To do that, I am going to isolate the rows where FirstYearDelinquency = 1 and create a histogram Age oldest account "
   ]
  },
  {
   "cell_type": "code",
   "execution_count": 98,
   "metadata": {},
   "outputs": [],
   "source": [
    "#isolate delinquents and non-delinquents\n",
    "\n",
    "delinquents = df[df.FirstYearDelinquency != 0]\n",
    "nondelinquents = df[df.FirstYearDelinquency != 1]"
   ]
  },
  {
   "cell_type": "code",
   "execution_count": 99,
   "metadata": {},
   "outputs": [
    {
     "data": {
      "text/html": [
       "<div>\n",
       "<style scoped>\n",
       "    .dataframe tbody tr th:only-of-type {\n",
       "        vertical-align: middle;\n",
       "    }\n",
       "\n",
       "    .dataframe tbody tr th {\n",
       "        vertical-align: top;\n",
       "    }\n",
       "\n",
       "    .dataframe thead th {\n",
       "        text-align: right;\n",
       "    }\n",
       "</style>\n",
       "<table border=\"1\" class=\"dataframe\">\n",
       "  <thead>\n",
       "    <tr style=\"text-align: right;\">\n",
       "      <th></th>\n",
       "      <th>FirstYearDelinquency</th>\n",
       "      <th>AgeOldestIdentityRecord</th>\n",
       "      <th>AgeOldestAccount</th>\n",
       "      <th>AgeNewestAutoAccount</th>\n",
       "      <th>TotalInquiries</th>\n",
       "      <th>AvgAgeAutoAccounts</th>\n",
       "      <th>TotalAutoAccountsNeverDelinquent</th>\n",
       "      <th>WorstDelinquency</th>\n",
       "      <th>HasInquiryTelecomm</th>\n",
       "    </tr>\n",
       "  </thead>\n",
       "  <tbody>\n",
       "    <tr>\n",
       "      <th>5</th>\n",
       "      <td>1</td>\n",
       "      <td>91.0</td>\n",
       "      <td>66.0</td>\n",
       "      <td>7.0</td>\n",
       "      <td>2.0</td>\n",
       "      <td>19.0</td>\n",
       "      <td>2.0</td>\n",
       "      <td>1.0</td>\n",
       "      <td>0.0</td>\n",
       "    </tr>\n",
       "    <tr>\n",
       "      <th>15</th>\n",
       "      <td>1</td>\n",
       "      <td>155.0</td>\n",
       "      <td>118.0</td>\n",
       "      <td>38.0</td>\n",
       "      <td>1.0</td>\n",
       "      <td>78.0</td>\n",
       "      <td>1.0</td>\n",
       "      <td>400.0</td>\n",
       "      <td>0.0</td>\n",
       "    </tr>\n",
       "    <tr>\n",
       "      <th>22</th>\n",
       "      <td>1</td>\n",
       "      <td>177.0</td>\n",
       "      <td>126.0</td>\n",
       "      <td>16.0</td>\n",
       "      <td>0.0</td>\n",
       "      <td>66.0</td>\n",
       "      <td>2.0</td>\n",
       "      <td>120.0</td>\n",
       "      <td>0.0</td>\n",
       "    </tr>\n",
       "    <tr>\n",
       "      <th>25</th>\n",
       "      <td>1</td>\n",
       "      <td>377.0</td>\n",
       "      <td>103.0</td>\n",
       "      <td>101.0</td>\n",
       "      <td>0.0</td>\n",
       "      <td>102.0</td>\n",
       "      <td>2.0</td>\n",
       "      <td>400.0</td>\n",
       "      <td>0.0</td>\n",
       "    </tr>\n",
       "    <tr>\n",
       "      <th>31</th>\n",
       "      <td>1</td>\n",
       "      <td>246.0</td>\n",
       "      <td>221.0</td>\n",
       "      <td>52.0</td>\n",
       "      <td>0.0</td>\n",
       "      <td>89.0</td>\n",
       "      <td>1.0</td>\n",
       "      <td>1.0</td>\n",
       "      <td>0.0</td>\n",
       "    </tr>\n",
       "  </tbody>\n",
       "</table>\n",
       "</div>"
      ],
      "text/plain": [
       "    FirstYearDelinquency  AgeOldestIdentityRecord  AgeOldestAccount  \\\n",
       "5                      1                     91.0              66.0   \n",
       "15                     1                    155.0             118.0   \n",
       "22                     1                    177.0             126.0   \n",
       "25                     1                    377.0             103.0   \n",
       "31                     1                    246.0             221.0   \n",
       "\n",
       "    AgeNewestAutoAccount  TotalInquiries  AvgAgeAutoAccounts  \\\n",
       "5                    7.0             2.0                19.0   \n",
       "15                  38.0             1.0                78.0   \n",
       "22                  16.0             0.0                66.0   \n",
       "25                 101.0             0.0               102.0   \n",
       "31                  52.0             0.0                89.0   \n",
       "\n",
       "    TotalAutoAccountsNeverDelinquent  WorstDelinquency  HasInquiryTelecomm  \n",
       "5                                2.0               1.0                 0.0  \n",
       "15                               1.0             400.0                 0.0  \n",
       "22                               2.0             120.0                 0.0  \n",
       "25                               2.0             400.0                 0.0  \n",
       "31                               1.0               1.0                 0.0  "
      ]
     },
     "execution_count": 99,
     "metadata": {},
     "output_type": "execute_result"
    }
   ],
   "source": [
    "delinquents.head()"
   ]
  },
  {
   "cell_type": "code",
   "execution_count": 125,
   "metadata": {},
   "outputs": [
    {
     "name": "stdout",
     "output_type": "stream",
     "text": [
      "mean age of oldest accounts of delinquents 137.69256434699713\n",
      "mean age of oldest accounts of nondelinquents 147.7250900360144\n"
     ]
    }
   ],
   "source": [
    "#let us just quickly find the average age of the oldest account for both delinquents and nondelinquents\n",
    "delmean = delinquents['AgeOldestAccount'].mean()\n",
    "print('mean age of oldest accounts of delinquents' , delmean)\n",
    "nondelmean = nondelinquents['AgeOldestAccount'].mean()\n",
    "print('mean age of oldest accounts of nondelinquents' , nondelmean)"
   ]
  },
  {
   "cell_type": "markdown",
   "metadata": {},
   "source": [
    "The means are pretty similar, Let's look at the histograms to see it the distributions are similar as well. "
   ]
  },
  {
   "cell_type": "code",
   "execution_count": 101,
   "metadata": {},
   "outputs": [
    {
     "data": {
      "text/plain": [
       "<function matplotlib.pyplot.show(*args, **kw)>"
      ]
     },
     "execution_count": 101,
     "metadata": {},
     "output_type": "execute_result"
    },
    {
     "data": {
      "image/png": "[encoded data removed]",
      "text/plain": [
       "<Figure size 432x288 with 1 Axes>"
      ]
     },
     "metadata": {
      "needs_background": "light"
     },
     "output_type": "display_data"
    }
   ],
   "source": [
    "#now create a histogram using AgeOldestAccount\n",
    "\n",
    "plt.hist(delinquents['AgeOldestAccount'], 10)\n",
    "plt.xlabel('Number of Months')\n",
    "plt.ylabel('Total Number of Accounts Delinquent')\n",
    "plt.title('Number of Accounts Delinquent by Age')\n",
    "plt.show"
   ]
  },
  {
   "cell_type": "markdown",
   "metadata": {},
   "source": [
    "The Histogram is right skewed, which means that younger accounts are more likely to be delinquent. It is interesting to note that the highest number of delinquents is between 100 and 200. Now lets compare that to the nondelinquents"
   ]
  },
  {
   "cell_type": "code",
   "execution_count": 102,
   "metadata": {},
   "outputs": [
    {
     "data": {
      "text/plain": [
       "<function matplotlib.pyplot.show(*args, **kw)>"
      ]
     },
     "execution_count": 102,
     "metadata": {},
     "output_type": "execute_result"
    },
    {
     "data": {
      "image/png": "[encoded data removed]",
      "text/plain": [
       "<Figure size 432x288 with 1 Axes>"
      ]
     },
     "metadata": {
      "needs_background": "light"
     },
     "output_type": "display_data"
    }
   ],
   "source": [
    "plt.hist(nondelinquents['AgeOldestAccount'], 10)\n",
    "plt.xlabel('Number of Months')\n",
    "plt.ylabel('Total Number of Accounts Nondelinquent')\n",
    "plt.title('Number of Accounts Nondelinquent by Age')\n",
    "plt.show"
   ]
  },
  {
   "cell_type": "markdown",
   "metadata": {},
   "source": [
    "The histograms look similar in that they are both skewed right. This leads me to believe that the age of the oldest account does not have much impact on whether an account is delinquent or not.  "
   ]
  },
  {
   "cell_type": "code",
   "execution_count": 103,
   "metadata": {},
   "outputs": [
    {
     "data": {
      "image/png": "[encoded data removed]",
      "text/plain": [
       "<Figure size 432x288 with 1 Axes>"
      ]
     },
     "metadata": {
      "needs_background": "light"
     },
     "output_type": "display_data"
    }
   ],
   "source": [
    "#let's see if there is a relationship between the age of the oldest account and the worst delinquency with a \n",
    "#scatter plot\n",
    "\n",
    "plt.scatter(delinquents['AgeOldestAccount'], delinquents['WorstDelinquency'])\n",
    "plt.show()"
   ]
  },
  {
   "cell_type": "markdown",
   "metadata": {},
   "source": [
    "There does not seem to be any linear trends between the age of the oldest account and the worst delinquency. It is however, interesting to note that there does seem to be six different \"levels\" of delinquency. This might help us with our classification.\n",
    "\n",
    "Now let us look at a correlation matrix to see if there is any linear relationship between the variables."
   ]
  },
  {
   "cell_type": "code",
   "execution_count": 126,
   "metadata": {},
   "outputs": [
    {
     "data": {
      "image/png": "[encoded data removed]",
      "text/plain": [
       "<Figure size 288x288 with 1 Axes>"
      ]
     },
     "metadata": {
      "needs_background": "light"
     },
     "output_type": "display_data"
    }
   ],
   "source": [
    "plt.matshow(df.corr())\n",
    "plt.show()"
   ]
  },
  {
   "cell_type": "markdown",
   "metadata": {},
   "source": [
    "The data does not seem to show high levels of correlation. This may mean that linear regression would be difficult to do with this dataset. What would be best is a classifier such as a k nearest neighbor.  "
   ]
  },
  {
   "cell_type": "markdown",
   "metadata": {},
   "source": [
    "# Predictive model"
   ]
  },
  {
   "cell_type": "code",
   "execution_count": 127,
   "metadata": {},
   "outputs": [],
   "source": [
    "#split dataset into train and test sets\n",
    "\n",
    "y = df.iloc[:,0].values\n",
    "x = df.iloc[:,1:9].values\n",
    "X = preprocessing.scale(x)\n",
    "X_train, X_test, y_train, y_test = train_test_split(X, y, test_size = .33)"
   ]
  },
  {
   "cell_type": "code",
   "execution_count": 122,
   "metadata": {},
   "outputs": [
    {
     "name": "stdout",
     "output_type": "stream",
     "text": [
      "KNeighborsClassifier(algorithm='auto', leaf_size=30, metric='minkowski',\n",
      "           metric_params=None, n_jobs=None, n_neighbors=5, p=2,\n",
      "           weights='uniform')\n"
     ]
    }
   ],
   "source": [
    "#build and train model\n",
    "\n",
    "clf = neighbors.KNeighborsClassifier()\n",
    "clf.fit(X_train, y_train)\n",
    "print(clf)"
   ]
  },
  {
   "cell_type": "code",
   "execution_count": 123,
   "metadata": {},
   "outputs": [
    {
     "name": "stdout",
     "output_type": "stream",
     "text": [
      "              precision    recall  f1-score   support\n",
      "\n",
      "           0       0.70      0.80      0.75      1382\n",
      "           1       0.43      0.30      0.36       685\n",
      "\n",
      "   micro avg       0.64      0.64      0.64      2067\n",
      "   macro avg       0.57      0.55      0.55      2067\n",
      "weighted avg       0.61      0.64      0.62      2067\n",
      "\n"
     ]
    }
   ],
   "source": [
    "#Now to evaluate against the test dataset\n",
    "y_pred = clf.predict(X_test)\n",
    "\n",
    "print(metrics.classification_report(y_test, y_pred))"
   ]
  },
  {
   "cell_type": "markdown",
   "metadata": {},
   "source": [
    "Per the recall, the model was only able to accurately predict when an account was delinquent. It was however, able to predict with far more accuracy if an account was not delinquent.  "
   ]
  },
  {
   "cell_type": "markdown",
   "metadata": {},
   "source": [
    "# Vehicle depreciation analysis"
   ]
  },
  {
   "cell_type": "code",
   "execution_count": 128,
   "metadata": {},
   "outputs": [],
   "source": [
    "df = pd.read_csv('vehicle-depreciation.csv')"
   ]
  },
  {
   "cell_type": "code",
   "execution_count": 129,
   "metadata": {},
   "outputs": [
    {
     "data": {
      "text/html": [
       "<div>\n",
       "<style scoped>\n",
       "    .dataframe tbody tr th:only-of-type {\n",
       "        vertical-align: middle;\n",
       "    }\n",
       "\n",
       "    .dataframe tbody tr th {\n",
       "        vertical-align: top;\n",
       "    }\n",
       "\n",
       "    .dataframe thead th {\n",
       "        text-align: right;\n",
       "    }\n",
       "</style>\n",
       "<table border=\"1\" class=\"dataframe\">\n",
       "  <thead>\n",
       "    <tr style=\"text-align: right;\">\n",
       "      <th></th>\n",
       "      <th>VehicleID</th>\n",
       "      <th>CustomerGrade</th>\n",
       "      <th>AuctionPurchaseDate</th>\n",
       "      <th>AuctionPurchaseAmount</th>\n",
       "      <th>AuctionSaleDate</th>\n",
       "      <th>AuctionSaleAmount</th>\n",
       "      <th>VehicleType</th>\n",
       "      <th>Year</th>\n",
       "      <th>Make</th>\n",
       "      <th>Model</th>\n",
       "      <th>Trim</th>\n",
       "      <th>BodyType</th>\n",
       "      <th>AuctionPurchaseOdometer</th>\n",
       "      <th>AutomaticTransmission</th>\n",
       "      <th>DriveType</th>\n",
       "    </tr>\n",
       "  </thead>\n",
       "  <tbody>\n",
       "    <tr>\n",
       "      <th>0</th>\n",
       "      <td>9466</td>\n",
       "      <td>D</td>\n",
       "      <td>2013-10-30</td>\n",
       "      <td>6315.0</td>\n",
       "      <td>2015-09-15</td>\n",
       "      <td>3495.00</td>\n",
       "      <td>Car</td>\n",
       "      <td>2007</td>\n",
       "      <td>Pontiac</td>\n",
       "      <td>G6</td>\n",
       "      <td>GT</td>\n",
       "      <td>Coupe</td>\n",
       "      <td>91953</td>\n",
       "      <td>1</td>\n",
       "      <td>FWD</td>\n",
       "    </tr>\n",
       "    <tr>\n",
       "      <th>1</th>\n",
       "      <td>13266</td>\n",
       "      <td>B</td>\n",
       "      <td>2014-07-03</td>\n",
       "      <td>9955.0</td>\n",
       "      <td>2015-11-13</td>\n",
       "      <td>6349.14</td>\n",
       "      <td>Car</td>\n",
       "      <td>2012</td>\n",
       "      <td>Mitsubishi</td>\n",
       "      <td>Galant</td>\n",
       "      <td>FE</td>\n",
       "      <td>Sedan</td>\n",
       "      <td>49357</td>\n",
       "      <td>1</td>\n",
       "      <td>FWD</td>\n",
       "    </tr>\n",
       "    <tr>\n",
       "      <th>2</th>\n",
       "      <td>20422</td>\n",
       "      <td>B</td>\n",
       "      <td>2012-02-03</td>\n",
       "      <td>6975.0</td>\n",
       "      <td>2015-07-08</td>\n",
       "      <td>191.00</td>\n",
       "      <td>Car</td>\n",
       "      <td>2008</td>\n",
       "      <td>Chevrolet</td>\n",
       "      <td>Cobalt</td>\n",
       "      <td>LS</td>\n",
       "      <td>Sedan</td>\n",
       "      <td>100621</td>\n",
       "      <td>1</td>\n",
       "      <td>NaN</td>\n",
       "    </tr>\n",
       "    <tr>\n",
       "      <th>3</th>\n",
       "      <td>32375</td>\n",
       "      <td>B</td>\n",
       "      <td>2012-11-29</td>\n",
       "      <td>6240.0</td>\n",
       "      <td>2015-02-10</td>\n",
       "      <td>1748.50</td>\n",
       "      <td>Car</td>\n",
       "      <td>2007</td>\n",
       "      <td>Chevrolet</td>\n",
       "      <td>Cobalt</td>\n",
       "      <td>LS</td>\n",
       "      <td>Sedan</td>\n",
       "      <td>96228</td>\n",
       "      <td>1</td>\n",
       "      <td>FWD</td>\n",
       "    </tr>\n",
       "    <tr>\n",
       "      <th>4</th>\n",
       "      <td>7190</td>\n",
       "      <td>B</td>\n",
       "      <td>2014-02-19</td>\n",
       "      <td>7825.0</td>\n",
       "      <td>2015-05-26</td>\n",
       "      <td>2384.35</td>\n",
       "      <td>Car</td>\n",
       "      <td>2007</td>\n",
       "      <td>Pontiac</td>\n",
       "      <td>G6</td>\n",
       "      <td>Base</td>\n",
       "      <td>Sedan</td>\n",
       "      <td>69519</td>\n",
       "      <td>1</td>\n",
       "      <td>FWD</td>\n",
       "    </tr>\n",
       "  </tbody>\n",
       "</table>\n",
       "</div>"
      ],
      "text/plain": [
       "   VehicleID CustomerGrade AuctionPurchaseDate  AuctionPurchaseAmount  \\\n",
       "0       9466             D          2013-10-30                 6315.0   \n",
       "1      13266             B          2014-07-03                 9955.0   \n",
       "2      20422             B          2012-02-03                 6975.0   \n",
       "3      32375             B          2012-11-29                 6240.0   \n",
       "4       7190             B          2014-02-19                 7825.0   \n",
       "\n",
       "  AuctionSaleDate  AuctionSaleAmount VehicleType  Year        Make   Model  \\\n",
       "0      2015-09-15            3495.00         Car  2007     Pontiac      G6   \n",
       "1      2015-11-13            6349.14         Car  2012  Mitsubishi  Galant   \n",
       "2      2015-07-08             191.00         Car  2008   Chevrolet  Cobalt   \n",
       "3      2015-02-10            1748.50         Car  2007   Chevrolet  Cobalt   \n",
       "4      2015-05-26            2384.35         Car  2007     Pontiac      G6   \n",
       "\n",
       "   Trim BodyType  AuctionPurchaseOdometer  AutomaticTransmission DriveType  \n",
       "0    GT    Coupe                    91953                      1       FWD  \n",
       "1    FE    Sedan                    49357                      1       FWD  \n",
       "2    LS    Sedan                   100621                      1       NaN  \n",
       "3    LS    Sedan                    96228                      1       FWD  \n",
       "4  Base    Sedan                    69519                      1       FWD  "
      ]
     },
     "execution_count": 129,
     "metadata": {},
     "output_type": "execute_result"
    }
   ],
   "source": [
    "df.head()"
   ]
  },
  {
   "cell_type": "code",
   "execution_count": 143,
   "metadata": {},
   "outputs": [],
   "source": [
    "#first I would like to see how long each car was on the auction market\n",
    "from datetime import datetime\n",
    "df['AuctionPurchaseDate'] = pd.to_datetime(df['AuctionPurchaseDate'])\n",
    "df['AuctionSaleDate'] = pd.to_datetime(df['AuctionSaleDate'])\n",
    "df['DaysOnMarket'] = df['AuctionSaleDate'] - df['AuctionPurchaseDate']\n",
    "df['DaysOnMarket'] = df['DaysOnMarket']/np.timedelta64(1, 'D')\n",
    "#Add a depreciation column as well \n",
    "df['TotalDepreciation'] = df['AuctionSaleAmount'] - df['AuctionPurchaseAmount']"
   ]
  },
  {
   "cell_type": "code",
   "execution_count": 144,
   "metadata": {},
   "outputs": [
    {
     "data": {
      "text/html": [
       "<div>\n",
       "<style scoped>\n",
       "    .dataframe tbody tr th:only-of-type {\n",
       "        vertical-align: middle;\n",
       "    }\n",
       "\n",
       "    .dataframe tbody tr th {\n",
       "        vertical-align: top;\n",
       "    }\n",
       "\n",
       "    .dataframe thead th {\n",
       "        text-align: right;\n",
       "    }\n",
       "</style>\n",
       "<table border=\"1\" class=\"dataframe\">\n",
       "  <thead>\n",
       "    <tr style=\"text-align: right;\">\n",
       "      <th></th>\n",
       "      <th>VehicleID</th>\n",
       "      <th>CustomerGrade</th>\n",
       "      <th>AuctionPurchaseDate</th>\n",
       "      <th>AuctionPurchaseAmount</th>\n",
       "      <th>AuctionSaleDate</th>\n",
       "      <th>AuctionSaleAmount</th>\n",
       "      <th>VehicleType</th>\n",
       "      <th>Year</th>\n",
       "      <th>Make</th>\n",
       "      <th>Model</th>\n",
       "      <th>Trim</th>\n",
       "      <th>BodyType</th>\n",
       "      <th>AuctionPurchaseOdometer</th>\n",
       "      <th>AutomaticTransmission</th>\n",
       "      <th>DriveType</th>\n",
       "      <th>DaysOnMarket</th>\n",
       "      <th>TotalDepreciation</th>\n",
       "    </tr>\n",
       "  </thead>\n",
       "  <tbody>\n",
       "    <tr>\n",
       "      <th>0</th>\n",
       "      <td>9466</td>\n",
       "      <td>D</td>\n",
       "      <td>2013-10-30</td>\n",
       "      <td>6315.0</td>\n",
       "      <td>2015-09-15</td>\n",
       "      <td>3495.00</td>\n",
       "      <td>Car</td>\n",
       "      <td>2007</td>\n",
       "      <td>Pontiac</td>\n",
       "      <td>G6</td>\n",
       "      <td>GT</td>\n",
       "      <td>Coupe</td>\n",
       "      <td>91953</td>\n",
       "      <td>1</td>\n",
       "      <td>FWD</td>\n",
       "      <td>685.0</td>\n",
       "      <td>-2820.00</td>\n",
       "    </tr>\n",
       "    <tr>\n",
       "      <th>1</th>\n",
       "      <td>13266</td>\n",
       "      <td>B</td>\n",
       "      <td>2014-07-03</td>\n",
       "      <td>9955.0</td>\n",
       "      <td>2015-11-13</td>\n",
       "      <td>6349.14</td>\n",
       "      <td>Car</td>\n",
       "      <td>2012</td>\n",
       "      <td>Mitsubishi</td>\n",
       "      <td>Galant</td>\n",
       "      <td>FE</td>\n",
       "      <td>Sedan</td>\n",
       "      <td>49357</td>\n",
       "      <td>1</td>\n",
       "      <td>FWD</td>\n",
       "      <td>498.0</td>\n",
       "      <td>-3605.86</td>\n",
       "    </tr>\n",
       "    <tr>\n",
       "      <th>2</th>\n",
       "      <td>20422</td>\n",
       "      <td>B</td>\n",
       "      <td>2012-02-03</td>\n",
       "      <td>6975.0</td>\n",
       "      <td>2015-07-08</td>\n",
       "      <td>191.00</td>\n",
       "      <td>Car</td>\n",
       "      <td>2008</td>\n",
       "      <td>Chevrolet</td>\n",
       "      <td>Cobalt</td>\n",
       "      <td>LS</td>\n",
       "      <td>Sedan</td>\n",
       "      <td>100621</td>\n",
       "      <td>1</td>\n",
       "      <td>NaN</td>\n",
       "      <td>1251.0</td>\n",
       "      <td>-6784.00</td>\n",
       "    </tr>\n",
       "    <tr>\n",
       "      <th>3</th>\n",
       "      <td>32375</td>\n",
       "      <td>B</td>\n",
       "      <td>2012-11-29</td>\n",
       "      <td>6240.0</td>\n",
       "      <td>2015-02-10</td>\n",
       "      <td>1748.50</td>\n",
       "      <td>Car</td>\n",
       "      <td>2007</td>\n",
       "      <td>Chevrolet</td>\n",
       "      <td>Cobalt</td>\n",
       "      <td>LS</td>\n",
       "      <td>Sedan</td>\n",
       "      <td>96228</td>\n",
       "      <td>1</td>\n",
       "      <td>FWD</td>\n",
       "      <td>803.0</td>\n",
       "      <td>-4491.50</td>\n",
       "    </tr>\n",
       "    <tr>\n",
       "      <th>4</th>\n",
       "      <td>7190</td>\n",
       "      <td>B</td>\n",
       "      <td>2014-02-19</td>\n",
       "      <td>7825.0</td>\n",
       "      <td>2015-05-26</td>\n",
       "      <td>2384.35</td>\n",
       "      <td>Car</td>\n",
       "      <td>2007</td>\n",
       "      <td>Pontiac</td>\n",
       "      <td>G6</td>\n",
       "      <td>Base</td>\n",
       "      <td>Sedan</td>\n",
       "      <td>69519</td>\n",
       "      <td>1</td>\n",
       "      <td>FWD</td>\n",
       "      <td>461.0</td>\n",
       "      <td>-5440.65</td>\n",
       "    </tr>\n",
       "  </tbody>\n",
       "</table>\n",
       "</div>"
      ],
      "text/plain": [
       "   VehicleID CustomerGrade AuctionPurchaseDate  AuctionPurchaseAmount  \\\n",
       "0       9466             D          2013-10-30                 6315.0   \n",
       "1      13266             B          2014-07-03                 9955.0   \n",
       "2      20422             B          2012-02-03                 6975.0   \n",
       "3      32375             B          2012-11-29                 6240.0   \n",
       "4       7190             B          2014-02-19                 7825.0   \n",
       "\n",
       "  AuctionSaleDate  AuctionSaleAmount VehicleType  Year        Make   Model  \\\n",
       "0      2015-09-15            3495.00         Car  2007     Pontiac      G6   \n",
       "1      2015-11-13            6349.14         Car  2012  Mitsubishi  Galant   \n",
       "2      2015-07-08             191.00         Car  2008   Chevrolet  Cobalt   \n",
       "3      2015-02-10            1748.50         Car  2007   Chevrolet  Cobalt   \n",
       "4      2015-05-26            2384.35         Car  2007     Pontiac      G6   \n",
       "\n",
       "   Trim BodyType  AuctionPurchaseOdometer  AutomaticTransmission DriveType  \\\n",
       "0    GT    Coupe                    91953                      1       FWD   \n",
       "1    FE    Sedan                    49357                      1       FWD   \n",
       "2    LS    Sedan                   100621                      1       NaN   \n",
       "3    LS    Sedan                    96228                      1       FWD   \n",
       "4  Base    Sedan                    69519                      1       FWD   \n",
       "\n",
       "   DaysOnMarket  TotalDepreciation  \n",
       "0         685.0           -2820.00  \n",
       "1         498.0           -3605.86  \n",
       "2        1251.0           -6784.00  \n",
       "3         803.0           -4491.50  \n",
       "4         461.0           -5440.65  "
      ]
     },
     "execution_count": 144,
     "metadata": {},
     "output_type": "execute_result"
    }
   ],
   "source": [
    "df.head()"
   ]
  },
  {
   "cell_type": "code",
   "execution_count": 145,
   "metadata": {},
   "outputs": [
    {
     "data": {
      "image/png": "[encoded data removed]",
      "text/plain": [
       "<Figure size 432x288 with 1 Axes>"
      ]
     },
     "metadata": {
      "needs_background": "light"
     },
     "output_type": "display_data"
    }
   ],
   "source": [
    "#Now let's create a scatter plot from those two variables we just created and see if there is any correlation\n",
    "\n",
    "plt.scatter(df['DaysOnMarket'], df['TotalDepreciation'])\n",
    "plt.show()"
   ]
  },
  {
   "cell_type": "markdown",
   "metadata": {},
   "source": [
    "So there are quite a few data points which makes it hard to decipher any trends. Perhaps if we split the data by CustomerGrade we can get more insights. One thing to note is that there are a few cars that actually appreciated in value. Perhaps it would be good to look at those cars for insight. I would like to first see how the different customer grades depreciated, but before that I want to see if the odometer had any impact on the depreciation of a car"
   ]
  },
  {
   "cell_type": "code",
   "execution_count": 151,
   "metadata": {},
   "outputs": [
    {
     "data": {
      "image/png": "[encoded data removed]",
      "text/plain": [
       "<Figure size 432x288 with 1 Axes>"
      ]
     },
     "metadata": {
      "needs_background": "light"
     },
     "output_type": "display_data"
    }
   ],
   "source": [
    "import pylab\n",
    "plt.scatter(df['AuctionPurchaseOdometer'], df['TotalDepreciation'])\n",
    "pylab.xlim([0,1000000])\n",
    "plt.show()"
   ]
  },
  {
   "cell_type": "markdown",
   "metadata": {},
   "source": [
    "As with the previous scatter plot, there are too many points to notice any trends. It is interesting to note that even cars with a million miles on the odometer don't depreciate as much as some cars with less than 200,000 miles on the odometer. Let us split the data by customer grade and see if there is any insight to be found.  "
   ]
  },
  {
   "cell_type": "code",
   "execution_count": 156,
   "metadata": {},
   "outputs": [
    {
     "data": {
      "text/plain": [
       "array(['D', 'B', 'C', 'A'], dtype=object)"
      ]
     },
     "execution_count": 156,
     "metadata": {},
     "output_type": "execute_result"
    }
   ],
   "source": [
    "#find out how many different grades there are in customer grade\n",
    "df.CustomerGrade.unique()"
   ]
  },
  {
   "cell_type": "code",
   "execution_count": 158,
   "metadata": {},
   "outputs": [],
   "source": [
    "#now split the data\n",
    "\n",
    "dfa = df[df.CustomerGrade == 'A']\n",
    "dfb = df[df.CustomerGrade == 'B']\n",
    "dfc = df[df.CustomerGrade == 'C']\n",
    "dfd = df[df.CustomerGrade == 'D']"
   ]
  },
  {
   "cell_type": "code",
   "execution_count": 168,
   "metadata": {},
   "outputs": [
    {
     "data": {
      "text/plain": [
       "<matplotlib.collections.PathCollection at 0x1a1a9b0b70>"
      ]
     },
     "execution_count": 168,
     "metadata": {},
     "output_type": "execute_result"
    },
    {
     "data": {
      "image/png": "[encoded data removed]",
      "text/plain": [
       "<Figure size 432x288 with 4 Axes>"
      ]
     },
     "metadata": {
      "needs_background": "light"
     },
     "output_type": "display_data"
    }
   ],
   "source": [
    "#Now plot depreciation by each customer grade and how long the car is on the market\n",
    "fig, axes = plt.subplots(nrows=2, ncols=2)\n",
    "fig.tight_layout()\n",
    "ax1 = plt.subplot(221)\n",
    "ax1.title.set_text('Customer Grade A')\n",
    "plt.scatter(dfa['DaysOnMarket'], dfa['TotalDepreciation'])\n",
    "ax2 = plt.subplot(222)\n",
    "ax2.title.set_text('Customer Grade B')\n",
    "plt.scatter(dfb['DaysOnMarket'], dfb['TotalDepreciation'])\n",
    "ax3 = plt.subplot(223)\n",
    "ax3.title.set_text('Customer Grade C')\n",
    "plt.scatter(dfc['DaysOnMarket'], dfc['TotalDepreciation'])\n",
    "ax4 = plt.subplot(224)\n",
    "ax4.title.set_text('Customer Grade D')\n",
    "plt.scatter(dfd['DaysOnMarket'], dfd['TotalDepreciation'])"
   ]
  },
  {
   "cell_type": "markdown",
   "metadata": {},
   "source": [
    "There are still many points per subgroup, but we can see a slight downward trend with all of the subgroups. There does not seem to be much difference, at least when looking at depreciation as a factor of time spent on the market. "
   ]
  },
  {
   "cell_type": "code",
   "execution_count": 169,
   "metadata": {},
   "outputs": [
    {
     "data": {
      "text/plain": [
       "<matplotlib.collections.PathCollection at 0x1a1ad0f7f0>"
      ]
     },
     "execution_count": 169,
     "metadata": {},
     "output_type": "execute_result"
    },
    {
     "data": {
      "image/png": "[encoded data removed]",
      "text/plain": [
       "<Figure size 432x288 with 4 Axes>"
      ]
     },
     "metadata": {
      "needs_background": "light"
     },
     "output_type": "display_data"
    }
   ],
   "source": [
    "#Now plot depreciation by each customer grade and how many miles is on the odometer\n",
    "fig, axes = plt.subplots(nrows=2, ncols=2)\n",
    "fig.tight_layout()\n",
    "ax1 = plt.subplot(221)\n",
    "ax1.title.set_text('Customer Grade A')\n",
    "plt.scatter(dfa['AuctionPurchaseOdometer'], dfa['TotalDepreciation'])\n",
    "ax2 = plt.subplot(222)\n",
    "ax2.title.set_text('Customer Grade B')\n",
    "plt.scatter(dfb['AuctionPurchaseOdometer'], dfb['TotalDepreciation'])\n",
    "ax3 = plt.subplot(223)\n",
    "ax3.title.set_text('Customer Grade C')\n",
    "plt.scatter(dfc['AuctionPurchaseOdometer'], dfc['TotalDepreciation'])\n",
    "ax4 = plt.subplot(224)\n",
    "ax4.title.set_text('Customer Grade D')\n",
    "plt.scatter(dfd['AuctionPurchaseOdometer'], dfd['TotalDepreciation'])"
   ]
  },
  {
   "cell_type": "markdown",
   "metadata": {},
   "source": [
    "There is absolutely no correlation"
   ]
  },
  {
   "cell_type": "markdown",
   "metadata": {},
   "source": [
    "As mentioned before, there were a good amount of cars that actually appreciated. Let's take a look at those cars. "
   ]
  },
  {
   "cell_type": "code",
   "execution_count": 175,
   "metadata": {},
   "outputs": [
    {
     "data": {
      "text/html": [
       "<div>\n",
       "<style scoped>\n",
       "    .dataframe tbody tr th:only-of-type {\n",
       "        vertical-align: middle;\n",
       "    }\n",
       "\n",
       "    .dataframe tbody tr th {\n",
       "        vertical-align: top;\n",
       "    }\n",
       "\n",
       "    .dataframe thead th {\n",
       "        text-align: right;\n",
       "    }\n",
       "</style>\n",
       "<table border=\"1\" class=\"dataframe\">\n",
       "  <thead>\n",
       "    <tr style=\"text-align: right;\">\n",
       "      <th></th>\n",
       "      <th>VehicleID</th>\n",
       "      <th>CustomerGrade</th>\n",
       "      <th>AuctionPurchaseDate</th>\n",
       "      <th>AuctionPurchaseAmount</th>\n",
       "      <th>AuctionSaleDate</th>\n",
       "      <th>AuctionSaleAmount</th>\n",
       "      <th>VehicleType</th>\n",
       "      <th>Year</th>\n",
       "      <th>Make</th>\n",
       "      <th>Model</th>\n",
       "      <th>Trim</th>\n",
       "      <th>BodyType</th>\n",
       "      <th>AuctionPurchaseOdometer</th>\n",
       "      <th>AutomaticTransmission</th>\n",
       "      <th>DriveType</th>\n",
       "      <th>DaysOnMarket</th>\n",
       "      <th>TotalDepreciation</th>\n",
       "    </tr>\n",
       "  </thead>\n",
       "  <tbody>\n",
       "    <tr>\n",
       "      <th>81</th>\n",
       "      <td>25344</td>\n",
       "      <td>C</td>\n",
       "      <td>2014-07-21</td>\n",
       "      <td>6140.0</td>\n",
       "      <td>2015-03-17</td>\n",
       "      <td>6632.96</td>\n",
       "      <td>Truck</td>\n",
       "      <td>2009</td>\n",
       "      <td>Chevrolet</td>\n",
       "      <td>Colorado</td>\n",
       "      <td>Work Truck</td>\n",
       "      <td>Pickup</td>\n",
       "      <td>87560</td>\n",
       "      <td>1</td>\n",
       "      <td>4X2</td>\n",
       "      <td>239.0</td>\n",
       "      <td>492.96</td>\n",
       "    </tr>\n",
       "    <tr>\n",
       "      <th>116</th>\n",
       "      <td>25427</td>\n",
       "      <td>B</td>\n",
       "      <td>2014-08-06</td>\n",
       "      <td>7715.0</td>\n",
       "      <td>2015-03-17</td>\n",
       "      <td>7720.84</td>\n",
       "      <td>SUV</td>\n",
       "      <td>2008</td>\n",
       "      <td>Mercury</td>\n",
       "      <td>Mariner</td>\n",
       "      <td>V6</td>\n",
       "      <td>SUV</td>\n",
       "      <td>99846</td>\n",
       "      <td>1</td>\n",
       "      <td>AWD</td>\n",
       "      <td>223.0</td>\n",
       "      <td>5.84</td>\n",
       "    </tr>\n",
       "    <tr>\n",
       "      <th>168</th>\n",
       "      <td>25680</td>\n",
       "      <td>B</td>\n",
       "      <td>2014-10-22</td>\n",
       "      <td>8380.0</td>\n",
       "      <td>2015-07-28</td>\n",
       "      <td>9283.77</td>\n",
       "      <td>Car</td>\n",
       "      <td>2012</td>\n",
       "      <td>Chevrolet</td>\n",
       "      <td>Malibu</td>\n",
       "      <td>LT</td>\n",
       "      <td>Sedan</td>\n",
       "      <td>61938</td>\n",
       "      <td>1</td>\n",
       "      <td>FWD</td>\n",
       "      <td>279.0</td>\n",
       "      <td>903.77</td>\n",
       "    </tr>\n",
       "    <tr>\n",
       "      <th>253</th>\n",
       "      <td>21366</td>\n",
       "      <td>B</td>\n",
       "      <td>2014-05-14</td>\n",
       "      <td>9365.0</td>\n",
       "      <td>2015-04-09</td>\n",
       "      <td>9768.09</td>\n",
       "      <td>Truck</td>\n",
       "      <td>2008</td>\n",
       "      <td>Dodge</td>\n",
       "      <td>Dakota</td>\n",
       "      <td>SLT</td>\n",
       "      <td>Pickup</td>\n",
       "      <td>95751</td>\n",
       "      <td>1</td>\n",
       "      <td>4WD</td>\n",
       "      <td>330.0</td>\n",
       "      <td>403.09</td>\n",
       "    </tr>\n",
       "    <tr>\n",
       "      <th>270</th>\n",
       "      <td>2202</td>\n",
       "      <td>C</td>\n",
       "      <td>2013-07-24</td>\n",
       "      <td>10525.0</td>\n",
       "      <td>2015-06-09</td>\n",
       "      <td>11082.58</td>\n",
       "      <td>SUV</td>\n",
       "      <td>2010</td>\n",
       "      <td>Dodge</td>\n",
       "      <td>Nitro</td>\n",
       "      <td>SXT</td>\n",
       "      <td>SUV</td>\n",
       "      <td>88358</td>\n",
       "      <td>1</td>\n",
       "      <td>4X4</td>\n",
       "      <td>685.0</td>\n",
       "      <td>557.58</td>\n",
       "    </tr>\n",
       "  </tbody>\n",
       "</table>\n",
       "</div>"
      ],
      "text/plain": [
       "     VehicleID CustomerGrade AuctionPurchaseDate  AuctionPurchaseAmount  \\\n",
       "81       25344             C          2014-07-21                 6140.0   \n",
       "116      25427             B          2014-08-06                 7715.0   \n",
       "168      25680             B          2014-10-22                 8380.0   \n",
       "253      21366             B          2014-05-14                 9365.0   \n",
       "270       2202             C          2013-07-24                10525.0   \n",
       "\n",
       "    AuctionSaleDate  AuctionSaleAmount VehicleType  Year       Make     Model  \\\n",
       "81       2015-03-17            6632.96       Truck  2009  Chevrolet  Colorado   \n",
       "116      2015-03-17            7720.84         SUV  2008    Mercury   Mariner   \n",
       "168      2015-07-28            9283.77         Car  2012  Chevrolet    Malibu   \n",
       "253      2015-04-09            9768.09       Truck  2008      Dodge    Dakota   \n",
       "270      2015-06-09           11082.58         SUV  2010      Dodge     Nitro   \n",
       "\n",
       "           Trim BodyType  AuctionPurchaseOdometer  AutomaticTransmission  \\\n",
       "81   Work Truck   Pickup                    87560                      1   \n",
       "116          V6      SUV                    99846                      1   \n",
       "168          LT    Sedan                    61938                      1   \n",
       "253         SLT   Pickup                    95751                      1   \n",
       "270         SXT      SUV                    88358                      1   \n",
       "\n",
       "    DriveType  DaysOnMarket  TotalDepreciation  \n",
       "81        4X2         239.0             492.96  \n",
       "116       AWD         223.0               5.84  \n",
       "168       FWD         279.0             903.77  \n",
       "253       4WD         330.0             403.09  \n",
       "270       4X4         685.0             557.58  "
      ]
     },
     "execution_count": 175,
     "metadata": {},
     "output_type": "execute_result"
    }
   ],
   "source": [
    "#isolate the data\n",
    "dfappreciation = df[df.TotalDepreciation > 0]\n",
    "dfappreciation.head()"
   ]
  },
  {
   "cell_type": "code",
   "execution_count": 174,
   "metadata": {},
   "outputs": [
    {
     "data": {
      "text/html": [
       "<div>\n",
       "<style scoped>\n",
       "    .dataframe tbody tr th:only-of-type {\n",
       "        vertical-align: middle;\n",
       "    }\n",
       "\n",
       "    .dataframe tbody tr th {\n",
       "        vertical-align: top;\n",
       "    }\n",
       "\n",
       "    .dataframe thead th {\n",
       "        text-align: right;\n",
       "    }\n",
       "</style>\n",
       "<table border=\"1\" class=\"dataframe\">\n",
       "  <thead>\n",
       "    <tr style=\"text-align: right;\">\n",
       "      <th></th>\n",
       "      <th>VehicleID</th>\n",
       "      <th>AuctionPurchaseAmount</th>\n",
       "      <th>AuctionSaleAmount</th>\n",
       "      <th>Year</th>\n",
       "      <th>AuctionPurchaseOdometer</th>\n",
       "      <th>AutomaticTransmission</th>\n",
       "      <th>DaysOnMarket</th>\n",
       "      <th>TotalDepreciation</th>\n",
       "    </tr>\n",
       "  </thead>\n",
       "  <tbody>\n",
       "    <tr>\n",
       "      <th>count</th>\n",
       "      <td>93.000000</td>\n",
       "      <td>93.000000</td>\n",
       "      <td>93.000000</td>\n",
       "      <td>93.000000</td>\n",
       "      <td>93.000000</td>\n",
       "      <td>93.0</td>\n",
       "      <td>93.000000</td>\n",
       "      <td>93.000000</td>\n",
       "    </tr>\n",
       "    <tr>\n",
       "      <th>mean</th>\n",
       "      <td>21038.967742</td>\n",
       "      <td>8216.537634</td>\n",
       "      <td>9343.224409</td>\n",
       "      <td>2009.172043</td>\n",
       "      <td>87765.129032</td>\n",
       "      <td>1.0</td>\n",
       "      <td>364.559140</td>\n",
       "      <td>1126.686774</td>\n",
       "    </tr>\n",
       "    <tr>\n",
       "      <th>std</th>\n",
       "      <td>9492.206172</td>\n",
       "      <td>2017.770910</td>\n",
       "      <td>2696.941616</td>\n",
       "      <td>2.361943</td>\n",
       "      <td>42203.324290</td>\n",
       "      <td>0.0</td>\n",
       "      <td>188.241892</td>\n",
       "      <td>1639.413968</td>\n",
       "    </tr>\n",
       "    <tr>\n",
       "      <th>min</th>\n",
       "      <td>1991.000000</td>\n",
       "      <td>2000.000000</td>\n",
       "      <td>3468.000000</td>\n",
       "      <td>2004.000000</td>\n",
       "      <td>36833.000000</td>\n",
       "      <td>1.0</td>\n",
       "      <td>125.000000</td>\n",
       "      <td>5.840000</td>\n",
       "    </tr>\n",
       "    <tr>\n",
       "      <th>25%</th>\n",
       "      <td>13309.000000</td>\n",
       "      <td>7040.000000</td>\n",
       "      <td>7832.000000</td>\n",
       "      <td>2008.000000</td>\n",
       "      <td>75386.000000</td>\n",
       "      <td>1.0</td>\n",
       "      <td>243.000000</td>\n",
       "      <td>212.700000</td>\n",
       "    </tr>\n",
       "    <tr>\n",
       "      <th>50%</th>\n",
       "      <td>25024.000000</td>\n",
       "      <td>8200.000000</td>\n",
       "      <td>8857.800000</td>\n",
       "      <td>2009.000000</td>\n",
       "      <td>87560.000000</td>\n",
       "      <td>1.0</td>\n",
       "      <td>300.000000</td>\n",
       "      <td>547.000000</td>\n",
       "    </tr>\n",
       "    <tr>\n",
       "      <th>75%</th>\n",
       "      <td>25886.000000</td>\n",
       "      <td>9345.000000</td>\n",
       "      <td>10289.000000</td>\n",
       "      <td>2011.000000</td>\n",
       "      <td>95689.000000</td>\n",
       "      <td>1.0</td>\n",
       "      <td>434.000000</td>\n",
       "      <td>941.140000</td>\n",
       "    </tr>\n",
       "    <tr>\n",
       "      <th>max</th>\n",
       "      <td>34984.000000</td>\n",
       "      <td>13475.000000</td>\n",
       "      <td>19823.360000</td>\n",
       "      <td>2013.000000</td>\n",
       "      <td>457583.000000</td>\n",
       "      <td>1.0</td>\n",
       "      <td>1084.000000</td>\n",
       "      <td>7828.360000</td>\n",
       "    </tr>\n",
       "  </tbody>\n",
       "</table>\n",
       "</div>"
      ],
      "text/plain": [
       "          VehicleID  AuctionPurchaseAmount  AuctionSaleAmount         Year  \\\n",
       "count     93.000000              93.000000          93.000000    93.000000   \n",
       "mean   21038.967742            8216.537634        9343.224409  2009.172043   \n",
       "std     9492.206172            2017.770910        2696.941616     2.361943   \n",
       "min     1991.000000            2000.000000        3468.000000  2004.000000   \n",
       "25%    13309.000000            7040.000000        7832.000000  2008.000000   \n",
       "50%    25024.000000            8200.000000        8857.800000  2009.000000   \n",
       "75%    25886.000000            9345.000000       10289.000000  2011.000000   \n",
       "max    34984.000000           13475.000000       19823.360000  2013.000000   \n",
       "\n",
       "       AuctionPurchaseOdometer  AutomaticTransmission  DaysOnMarket  \\\n",
       "count                93.000000                   93.0     93.000000   \n",
       "mean              87765.129032                    1.0    364.559140   \n",
       "std               42203.324290                    0.0    188.241892   \n",
       "min               36833.000000                    1.0    125.000000   \n",
       "25%               75386.000000                    1.0    243.000000   \n",
       "50%               87560.000000                    1.0    300.000000   \n",
       "75%               95689.000000                    1.0    434.000000   \n",
       "max              457583.000000                    1.0   1084.000000   \n",
       "\n",
       "       TotalDepreciation  \n",
       "count          93.000000  \n",
       "mean         1126.686774  \n",
       "std          1639.413968  \n",
       "min             5.840000  \n",
       "25%           212.700000  \n",
       "50%           547.000000  \n",
       "75%           941.140000  \n",
       "max          7828.360000  "
      ]
     },
     "execution_count": 174,
     "metadata": {},
     "output_type": "execute_result"
    }
   ],
   "source": [
    "dfappreciation.describe()"
   ]
  },
  {
   "cell_type": "markdown",
   "metadata": {},
   "source": [
    "A total of 93 cars appreciated in value. The average car that appreciated, was sold for $1126.67 more than it was bought for. It was on the market for a year, and had close to 88,000 miles on the odometer. I would like to see which companies had the most number of cars that appreciated. A bar chart is a good way to visualize this. "
   ]
  },
  {
   "cell_type": "code",
   "execution_count": 181,
   "metadata": {},
   "outputs": [
    {
     "data": {
      "text/plain": [
       "<matplotlib.axes._subplots.AxesSubplot at 0x1a1ad813c8>"
      ]
     },
     "execution_count": 181,
     "metadata": {},
     "output_type": "execute_result"
    },
    {
     "data": {
      "image/png": "[encoded data removed]",
      "text/plain": [
       "<Figure size 432x288 with 1 Axes>"
      ]
     },
     "metadata": {
      "needs_background": "light"
     },
     "output_type": "display_data"
    }
   ],
   "source": [
    "CountStatus = pd.value_counts(dfappreciation['Make'].values, sort=True)\n",
    "CountStatus.plot.bar()"
   ]
  },
  {
   "cell_type": "markdown",
   "metadata": {},
   "source": [
    "It seems American companies do well at auction, as Ford, Chevrolet, and Dodge have the most amount of cars tha appreciated in value. One could argue that their specialty cars like the Mustang, Camaro, Corvette, and Challenger could be highly covetted by collectors. Let us look at these three companies and see what kind of cars are the ones that are appreciating. "
   ]
  },
  {
   "cell_type": "code",
   "execution_count": 186,
   "metadata": {},
   "outputs": [],
   "source": [
    "dfford = df[df.Make == 'Ford']\n",
    "dfchevy = df[df.Make == 'Chevrolet']\n",
    "dfdodge = df[df.Make == 'Dodge']"
   ]
  },
  {
   "cell_type": "code",
   "execution_count": 190,
   "metadata": {},
   "outputs": [],
   "source": [
    "dftopthree = pd.concat([dfford, dfchevy, dfdodge])"
   ]
  },
  {
   "cell_type": "code",
   "execution_count": 191,
   "metadata": {},
   "outputs": [
    {
     "data": {
      "text/plain": [
       "<matplotlib.axes._subplots.AxesSubplot at 0x1a1a485860>"
      ]
     },
     "execution_count": 191,
     "metadata": {},
     "output_type": "execute_result"
    },
    {
     "data": {
      "image/png": "[encoded data removed]",
      "text/plain": [
       "<Figure size 432x288 with 1 Axes>"
      ]
     },
     "metadata": {
      "needs_background": "light"
     },
     "output_type": "display_data"
    }
   ],
   "source": [
    "CountStatus = pd.value_counts(dfappreciation['BodyType'].values, sort=True)\n",
    "CountStatus.plot.bar()"
   ]
  },
  {
   "cell_type": "markdown",
   "metadata": {},
   "source": [
    "Surprisingly, it's the American companies Sedans and SUVs that comprise the majority of their appreciated cars. In fact there was only one coupe that appreciated in value.  "
   ]
  }
 ],
 "metadata": {
  "kernelspec": {
   "display_name": "Python 3",
   "language": "python",
   "name": "python3"
  },
  "language_info": {
   "codemirror_mode": {
    "name": "ipython",
    "version": 3
   },
   "file_extension": ".py",
   "mimetype": "text/x-python",
   "name": "python",
   "nbconvert_exporter": "python",
   "pygments_lexer": "ipython3",
   "version": "3.6.8"
  }
 },
 "nbformat": 4,
 "nbformat_minor": 2
}
